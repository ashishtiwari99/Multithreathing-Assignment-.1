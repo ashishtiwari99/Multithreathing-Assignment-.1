{
 "cells": [
  {
   "cell_type": "code",
   "execution_count": 4,
   "id": "74246283-ce2f-4b5a-829d-8b397bc55e97",
   "metadata": {},
   "outputs": [],
   "source": [
    "#Question(1)\n",
    "#Multithreading - in a simple words, the ability of a processor to execute multiple threads simultaneously is known as multithreading.\n",
    "#Why multithreading used in python - \" if you wish to break down your tasks and applications into multiple sub-tasks and then execute them simultaneously, then multithreading in python is your bet.\"\n"
   ]
  },
  {
   "cell_type": "code",
   "execution_count": 5,
   "id": "7773d1f7-5674-440f-bae9-b90189f0dc12",
   "metadata": {},
   "outputs": [],
   "source": [
    "#Question(2)\n",
    "#threading module is used for creating, controlling and managing threads in python. \n",
    "\n",
    "#(1).threading.active_count() Function - This function returns the number of Thread objects currently alive.\n",
    "#(2).threading.current_thread() - This function will return the current Thread object, corresponding to the caller's thread of control.\n",
    "#(3).threading.enumerate()-This method returns a list of all Thread objects currently alive. The list includes daemonic threads(when the program quits, all the daemon threads associated with it are killed automatically), dummy thread objects created by the current thread, and the main thread.\n",
    "\n"
   ]
  },
  {
   "cell_type": "code",
   "execution_count": 6,
   "id": "f9de7e33-bf0e-48d1-9b76-a45ba6242784",
   "metadata": {},
   "outputs": [],
   "source": [
    "#Question(3)\n",
    "#(1) Run() - In the basic programmimng language, Run is used to start program execution from direct mode, or to start an overlay program from a loader program.\n",
    "#(2)satrt() - This is the function that is called when you click run. Each program should have a start function like function start() { // The program code goes here}\n",
    "#(3)Join() - The join() method takes all items in an iterable and join them into one string.A string must be specified as the separator.\n",
    "#(4)is Alive - The method returns true if the thread is still running and not finished."
   ]
  },
  {
   "cell_type": "code",
   "execution_count": 7,
   "id": "9f627573-db08-4b7e-8f02-566dc6b1bc6c",
   "metadata": {},
   "outputs": [
    {
     "name": "stdout",
     "output_type": "stream",
     "text": [
      "List of squares: [1, 4, 9, 16, 25]\n",
      "List of cubes: [1, 8, 27, 64, 125]\n",
      "Program execution completed.\n"
     ]
    }
   ],
   "source": [
    "import threading\n",
    "\n",
    "def print_squares():\n",
    "    squares = [x ** 2 for x in range(1, 6)]\n",
    "    print(\"List of squares:\", squares)\n",
    "\n",
    "def print_cubes():\n",
    "    cubes = [x ** 3 for x in range(1, 6)]\n",
    "    print(\"List of cubes:\", cubes)\n",
    "\n",
    "# Create the first thread\n",
    "thread1 = threading.Thread(target=print_squares)\n",
    "\n",
    "# Create the second thread\n",
    "thread2 = threading.Thread(target=print_cubes)\n",
    "\n",
    "# Start both threads\n",
    "thread1.start()\n",
    "thread2.start()\n",
    "\n",
    "# Wait for both threads to complete\n",
    "thread1.join()\n",
    "thread2.join()\n",
    "\n",
    "print(\"Program execution completed.\")"
   ]
  },
  {
   "cell_type": "code",
   "execution_count": 8,
   "id": "f369f373-a04f-4f1c-a2e7-c2b26c7985a1",
   "metadata": {
    "scrolled": true,
    "tags": []
   },
   "outputs": [],
   "source": [
    "#(Q.5). State advantages and disadvantages of multithreading\n",
    "#Advantages of Multithreading:\n",
    "#1.Concurrency: Multiple threads can execute simultaneously, allowing for concurrent execution of tasks and efficient utilization of CPU resources.\n",
    "#2.Responsiveness: Multithreading enables responsiveness in applications by keeping them interactive even during time-consuming operations. This ensures that the application remains responsive to user input.\n",
    "#3.Resource Sharing: Threads within a process can share the same memory space, enabling efficient sharing of data and resources. This facilitates communication and coordination between threads, making it easier to work with shared data.\n",
    "\n",
    "#Disadvantages of Multithreading:\n",
    "#1.Complexity: Multithreaded programming introduces additional complexity due to the need for synchronization and coordination between threads. Issues such as race conditions, deadlocks, and thread interference can arise, making debugging and development more challenging.\n",
    "#2.Synchronization Overhead: When multiple threads access shared resources, synchronization mechanisms like locks or semaphores are required to prevent data corruption. These mechanisms introduce overhead and can impact performance.\n",
    "#3.Debugging and Testing: Debugging multithreaded applications can be difficult, as issues like race conditions may be challenging to reproduce and diagnose. Testing multithreaded code also requires thorough testing of various scenarios to ensure correctness."
   ]
  },
  {
   "cell_type": "code",
   "execution_count": 9,
   "id": "4eeb298d-6bc4-4ffb-b42e-619e2063adde",
   "metadata": {},
   "outputs": [],
   "source": [
    "#(Q.6).Explain deadlocks and race conditions.\n",
    "\n",
    "#Deadlocks: A deadlock occurs in a multithreaded or multiprocess environment when two or more threads or processes are unable to proceed because each is waiting for the other to release a resource or take a specific action.\n",
    "\n",
    "#Race Conditions: A race condition is a situation where the behavior of a program depends on the relative timing of events or operations. It occurs when multiple threads or processes access shared data or resources concurrently, and the final outcome of the program depends on the order in which the threads are scheduled for execution. "
   ]
  },
  {
   "cell_type": "code",
   "execution_count": null,
   "id": "230bef81-dcec-4d29-8e30-b4bcc5e00b4c",
   "metadata": {},
   "outputs": [],
   "source": []
  },
  {
   "cell_type": "code",
   "execution_count": null,
   "id": "e36475b5",
   "metadata": {},
   "outputs": [],
   "source": []
  }
 ],
 "metadata": {
  "kernelspec": {
   "display_name": "Python 3 (ipykernel)",
   "language": "python",
   "name": "python3"
  },
  "language_info": {
   "codemirror_mode": {
    "name": "ipython",
    "version": 3
   },
   "file_extension": ".py",
   "mimetype": "text/x-python",
   "name": "python",
   "nbconvert_exporter": "python",
   "pygments_lexer": "ipython3",
   "version": "3.10.8"
  }
 },
 "nbformat": 4,
 "nbformat_minor": 5
}
